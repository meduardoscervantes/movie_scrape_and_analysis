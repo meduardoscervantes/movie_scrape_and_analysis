{
 "cells": [
  {
   "cell_type": "code",
   "execution_count": 1,
   "metadata": {},
   "outputs": [],
   "source": [
    "from selenium import webdriver\n",
    "from selenium.webdriver.common.keys import Keys\n",
    "from bs4 import BeautifulSoup as bs\n",
    "import pandas as pd\n",
    "import numpy as np\n",
    "import time"
   ]
  },
  {
   "cell_type": "code",
   "execution_count": 2,
   "metadata": {},
   "outputs": [],
   "source": [
    "driver = webdriver.Chrome('chromedriver.exe')\n",
    "driver.get(\"https://www.whats-on-netflix.com/library/series/\")\n",
    "# After the page loads, click on the drop down to select 100\n",
    "# Then wait to run the next bit of code"
   ]
  },
  {
   "cell_type": "code",
   "execution_count": 3,
   "metadata": {},
   "outputs": [],
   "source": [
    "dfs = []"
   ]
  },
  {
   "cell_type": "code",
   "execution_count": 28,
   "metadata": {},
   "outputs": [
    {
     "data": {
      "text/plain": [
       "25"
      ]
     },
     "execution_count": 28,
     "metadata": {},
     "output_type": "execute_result"
    }
   ],
   "source": [
    "html = driver.page_source\n",
    "soup = bs(html, 'html.parser')\n",
    "dfs.append(pd.read_html(html)[0])\n",
    "len(dfs)"
   ]
  },
  {
   "cell_type": "code",
   "execution_count": 30,
   "metadata": {},
   "outputs": [
    {
     "data": {
      "text/html": [
       "<div>\n",
       "<style scoped>\n",
       "    .dataframe tbody tr th:only-of-type {\n",
       "        vertical-align: middle;\n",
       "    }\n",
       "\n",
       "    .dataframe tbody tr th {\n",
       "        vertical-align: top;\n",
       "    }\n",
       "\n",
       "    .dataframe thead th {\n",
       "        text-align: right;\n",
       "    }\n",
       "</style>\n",
       "<table border=\"1\" class=\"dataframe\">\n",
       "  <thead>\n",
       "    <tr style=\"text-align: right;\">\n",
       "      <th></th>\n",
       "      <th>Unnamed: 0</th>\n",
       "      <th>Cover</th>\n",
       "      <th>Title Name</th>\n",
       "      <th>Language</th>\n",
       "      <th>Released</th>\n",
       "      <th>Rating</th>\n",
       "      <th>IMDb</th>\n",
       "    </tr>\n",
       "  </thead>\n",
       "  <tbody>\n",
       "  </tbody>\n",
       "</table>\n",
       "</div>"
      ],
      "text/plain": [
       "Empty DataFrame\n",
       "Columns: [Unnamed: 0, Cover, Title Name, Language, Released, Rating, IMDb]\n",
       "Index: []"
      ]
     },
     "execution_count": 30,
     "metadata": {},
     "output_type": "execute_result"
    }
   ],
   "source": [
    "df = pd.DataFrame(columns=['Unnamed: 0', 'Cover', 'Title Name', 'Language','Released', 'Rating', 'IMDb'])\n",
    "df"
   ]
  },
  {
   "cell_type": "code",
   "execution_count": 31,
   "metadata": {},
   "outputs": [
    {
     "data": {
      "text/html": [
       "<div>\n",
       "<style scoped>\n",
       "    .dataframe tbody tr th:only-of-type {\n",
       "        vertical-align: middle;\n",
       "    }\n",
       "\n",
       "    .dataframe tbody tr th {\n",
       "        vertical-align: top;\n",
       "    }\n",
       "\n",
       "    .dataframe thead th {\n",
       "        text-align: right;\n",
       "    }\n",
       "</style>\n",
       "<table border=\"1\" class=\"dataframe\">\n",
       "  <thead>\n",
       "    <tr style=\"text-align: right;\">\n",
       "      <th></th>\n",
       "      <th>Unnamed: 0</th>\n",
       "      <th>Cover</th>\n",
       "      <th>Title Name</th>\n",
       "      <th>Language</th>\n",
       "      <th>Released</th>\n",
       "      <th>Rating</th>\n",
       "      <th>IMDb</th>\n",
       "    </tr>\n",
       "  </thead>\n",
       "  <tbody>\n",
       "    <tr>\n",
       "      <th>0</th>\n",
       "      <td>NaN</td>\n",
       "      <td>NaN</td>\n",
       "      <td>#ABTalks</td>\n",
       "      <td>English</td>\n",
       "      <td>NaN</td>\n",
       "      <td>TV-PG</td>\n",
       "      <td>NaN</td>\n",
       "    </tr>\n",
       "    <tr>\n",
       "      <th>1</th>\n",
       "      <td>NaN</td>\n",
       "      <td>NaN</td>\n",
       "      <td>#blackAF</td>\n",
       "      <td>English</td>\n",
       "      <td>NaN</td>\n",
       "      <td>TV-MA</td>\n",
       "      <td>6.8/10</td>\n",
       "    </tr>\n",
       "    <tr>\n",
       "      <th>2</th>\n",
       "      <td>NaN</td>\n",
       "      <td>NaN</td>\n",
       "      <td>(Un)Well</td>\n",
       "      <td>English</td>\n",
       "      <td>NaN</td>\n",
       "      <td>TV-MA</td>\n",
       "      <td>6.4/10</td>\n",
       "    </tr>\n",
       "    <tr>\n",
       "      <th>3</th>\n",
       "      <td>NaN</td>\n",
       "      <td>NaN</td>\n",
       "      <td>100 Days My Prince</td>\n",
       "      <td>Korean</td>\n",
       "      <td>NaN</td>\n",
       "      <td>TV-14</td>\n",
       "      <td>NaN</td>\n",
       "    </tr>\n",
       "    <tr>\n",
       "      <th>4</th>\n",
       "      <td>NaN</td>\n",
       "      <td>NaN</td>\n",
       "      <td>100 Humans</td>\n",
       "      <td>English</td>\n",
       "      <td>NaN</td>\n",
       "      <td>TV-14</td>\n",
       "      <td>5.6/10</td>\n",
       "    </tr>\n",
       "    <tr>\n",
       "      <th>...</th>\n",
       "      <td>...</td>\n",
       "      <td>...</td>\n",
       "      <td>...</td>\n",
       "      <td>...</td>\n",
       "      <td>...</td>\n",
       "      <td>...</td>\n",
       "      <td>...</td>\n",
       "    </tr>\n",
       "    <tr>\n",
       "      <th>28</th>\n",
       "      <td>NaN</td>\n",
       "      <td>NaN</td>\n",
       "      <td>Zoey 101</td>\n",
       "      <td>English</td>\n",
       "      <td>NaN</td>\n",
       "      <td>TV-Y7</td>\n",
       "      <td>NaN</td>\n",
       "    </tr>\n",
       "    <tr>\n",
       "      <th>29</th>\n",
       "      <td>NaN</td>\n",
       "      <td>NaN</td>\n",
       "      <td>Zona Rosa</td>\n",
       "      <td>Spanish</td>\n",
       "      <td>NaN</td>\n",
       "      <td>TV-MA</td>\n",
       "      <td>5.8/10</td>\n",
       "    </tr>\n",
       "    <tr>\n",
       "      <th>30</th>\n",
       "      <td>NaN</td>\n",
       "      <td>NaN</td>\n",
       "      <td>Zoo</td>\n",
       "      <td>English</td>\n",
       "      <td>NaN</td>\n",
       "      <td>TV-14</td>\n",
       "      <td>6.8/10</td>\n",
       "    </tr>\n",
       "    <tr>\n",
       "      <th>31</th>\n",
       "      <td>NaN</td>\n",
       "      <td>NaN</td>\n",
       "      <td>Zumbo's Just Desserts</td>\n",
       "      <td>English</td>\n",
       "      <td>NaN</td>\n",
       "      <td>TV-PG</td>\n",
       "      <td>6.9/10</td>\n",
       "    </tr>\n",
       "    <tr>\n",
       "      <th>32</th>\n",
       "      <td>NaN</td>\n",
       "      <td>NaN</td>\n",
       "      <td>​SAINT SEIYA: Knights of the Zodiac</td>\n",
       "      <td>Japanese</td>\n",
       "      <td>NaN</td>\n",
       "      <td>TV-14</td>\n",
       "      <td>4.5/10</td>\n",
       "    </tr>\n",
       "  </tbody>\n",
       "</table>\n",
       "<p>2433 rows × 7 columns</p>\n",
       "</div>"
      ],
      "text/plain": [
       "   Unnamed: 0 Cover                           Title Name  Language Released  \\\n",
       "0         NaN   NaN                             #ABTalks   English      NaN   \n",
       "1         NaN   NaN                             #blackAF   English      NaN   \n",
       "2         NaN   NaN                             (Un)Well   English      NaN   \n",
       "3         NaN   NaN                   100 Days My Prince    Korean      NaN   \n",
       "4         NaN   NaN                           100 Humans   English      NaN   \n",
       "..        ...   ...                                  ...       ...      ...   \n",
       "28        NaN   NaN                             Zoey 101   English      NaN   \n",
       "29        NaN   NaN                            Zona Rosa   Spanish      NaN   \n",
       "30        NaN   NaN                                  Zoo   English      NaN   \n",
       "31        NaN   NaN                Zumbo's Just Desserts   English      NaN   \n",
       "32        NaN   NaN  ​SAINT SEIYA: Knights of the Zodiac  Japanese      NaN   \n",
       "\n",
       "   Rating    IMDb  \n",
       "0   TV-PG     NaN  \n",
       "1   TV-MA  6.8/10  \n",
       "2   TV-MA  6.4/10  \n",
       "3   TV-14     NaN  \n",
       "4   TV-14  5.6/10  \n",
       "..    ...     ...  \n",
       "28  TV-Y7     NaN  \n",
       "29  TV-MA  5.8/10  \n",
       "30  TV-14  6.8/10  \n",
       "31  TV-PG  6.9/10  \n",
       "32  TV-14  4.5/10  \n",
       "\n",
       "[2433 rows x 7 columns]"
      ]
     },
     "execution_count": 31,
     "metadata": {},
     "output_type": "execute_result"
    }
   ],
   "source": [
    "for x in dfs:\n",
    "    df = pd.concat([df,x], axis=0)\n",
    "df"
   ]
  },
  {
   "cell_type": "code",
   "execution_count": 32,
   "metadata": {},
   "outputs": [],
   "source": [
    "df = df.reset_index().drop(columns=['Unnamed: 0', 'Cover', 'index']).to_csv('resources/netflix_shows.csv', index=False)\n",
    "df"
   ]
  },
  {
   "cell_type": "code",
   "execution_count": null,
   "metadata": {},
   "outputs": [],
   "source": [
    "df"
   ]
  }
 ],
 "metadata": {
  "kernelspec": {
   "display_name": "base",
   "language": "python",
   "name": "python3"
  },
  "language_info": {
   "codemirror_mode": {
    "name": "ipython",
    "version": 3
   },
   "file_extension": ".py",
   "mimetype": "text/x-python",
   "name": "python",
   "nbconvert_exporter": "python",
   "pygments_lexer": "ipython3",
   "version": "3.9.7 (default, Sep 16 2021, 16:59:28) [MSC v.1916 64 bit (AMD64)]"
  },
  "orig_nbformat": 4,
  "vscode": {
   "interpreter": {
    "hash": "3f542bb704b491dbc8aaf1b698f259a9ba6defffb593dedf0160812707340631"
   }
  }
 },
 "nbformat": 4,
 "nbformat_minor": 2
}
